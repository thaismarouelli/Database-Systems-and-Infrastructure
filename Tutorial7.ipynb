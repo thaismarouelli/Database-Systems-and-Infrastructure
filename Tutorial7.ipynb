{
 "cells": [
  {
   "cell_type": "code",
   "execution_count": 1,
   "id": "fecba73c",
   "metadata": {},
   "outputs": [
    {
     "name": "stdout",
     "output_type": "stream",
     "text": [
      "Defaulting to user installation because normal site-packages is not writeable\n",
      "Collecting mysql-connector-python\n",
      "  Downloading mysql_connector_python-9.4.0-cp310-cp310-win_amd64.whl (16.4 MB)\n",
      "     --------------------------------------- 16.4/16.4 MB 10.2 MB/s eta 0:00:00\n",
      "Installing collected packages: mysql-connector-python\n",
      "Successfully installed mysql-connector-python-9.4.0\n",
      "Note: you may need to restart the kernel to use updated packages.\n"
     ]
    }
   ],
   "source": [
    "pip install mysql-connector-python\n"
   ]
  },
  {
   "cell_type": "code",
   "execution_count": 2,
   "id": "0a02d919",
   "metadata": {},
   "outputs": [],
   "source": [
    "import mysql.connector \n",
    "\n",
    "cnx = mysql.connector.connect(user='root', password='Student123@', host='127.0.0.1', database='university')"
   ]
  },
  {
   "cell_type": "code",
   "execution_count": 3,
   "id": "2d19a8c5",
   "metadata": {},
   "outputs": [
    {
     "name": "stdout",
     "output_type": "stream",
     "text": [
      "('S001', 'MICHAEL BEVAN', datetime.date(1960, 9, 15), Decimal('3.20'), 'CHATSWOOD')\n",
      "('S002', 'BRIAN LARA', datetime.date(1965, 2, 10), Decimal('4.00'), 'MARSFIELD')\n",
      "('S003', 'VIVAN RICHARDS', datetime.date(1958, 11, 12), Decimal('4.50'), 'BURWOOD')\n",
      "('S004', 'JAVED MIANDAD', datetime.date(1966, 5, 5), Decimal('3.50'), 'RYDE')\n",
      "('S005', 'VIRAT KOHLI', datetime.date(1988, 10, 15), Decimal('4.30'), 'AUBURN')\n",
      "('S006', 'BABAR AZAM', datetime.date(1991, 4, 20), Decimal('4.20'), 'LAKEMBA')\n",
      "('S007', 'KUMARAN SANGAKARA', datetime.date(1980, 1, 26), Decimal('3.70'), 'REDFERN')\n"
     ]
    }
   ],
   "source": [
    "#cursor makes it possible to do the sql consultations in python \n",
    "#execute will execute queries \n",
    "\n",
    "import pandas as pd \n",
    "\n",
    "cursor = cnx.cursor()\n",
    "cursor.execute('SELECT * FROM STUDENT')\n",
    "for x in cursor:\n",
    "    print(x)"
   ]
  },
  {
   "cell_type": "code",
   "execution_count": 5,
   "id": "e1a9fa7c",
   "metadata": {},
   "outputs": [
    {
     "name": "stdout",
     "output_type": "stream",
     "text": [
      "***** query output presented as a pands dataframe *****\n",
      "\n",
      "\n",
      "  STUDENTID        STUDENTNAME  STUDENTDOB  STUDENTGPA STUDENTSUBURB\n",
      "0      S001      MICHAEL BEVAN  1960-09-15         3.2     CHATSWOOD\n",
      "1      S002         BRIAN LARA  1965-02-10         4.0     MARSFIELD\n",
      "2      S003     VIVAN RICHARDS  1958-11-12         4.5       BURWOOD\n",
      "3      S004      JAVED MIANDAD  1966-05-05         3.5          RYDE\n",
      "4      S005        VIRAT KOHLI  1988-10-15         4.3        AUBURN\n",
      "5      S006         BABAR AZAM  1991-04-20         4.2       LAKEMBA\n",
      "6      S007  KUMARAN SANGAKARA  1980-01-26         3.7       REDFERN\n"
     ]
    }
   ],
   "source": [
    "import warnings\n",
    "warnings.filterwarnings(\"ignore\")\n",
    "\n",
    "print(\"***** query output presented as a pands dataframe *****\")\n",
    "print(\"\\n\")\n",
    "df = pd.read_sql_query(\"select * from STUDENT \", cnx)\n",
    "print(df) "
   ]
  },
  {
   "cell_type": "code",
   "execution_count": 6,
   "id": "613ca512",
   "metadata": {},
   "outputs": [
    {
     "name": "stdout",
     "output_type": "stream",
     "text": [
      "         STUDENTNAME  STUDENTGPA\n",
      "0     VIVAN RICHARDS         4.5\n",
      "1        VIRAT KOHLI         4.3\n",
      "2         BABAR AZAM         4.2\n",
      "3         BRIAN LARA         4.0\n",
      "4  KUMARAN SANGAKARA         3.7\n",
      "5      JAVED MIANDAD         3.5\n",
      "6      MICHAEL BEVAN         3.2\n"
     ]
    }
   ],
   "source": [
    "query = \"\"\"SELECT STUDENTNAME, STUDENTGPA\n",
    "FROM STUDENT\n",
    "ORDER BY STUDENTGPA DESC\"\"\" \n",
    "\n",
    "df1 = pd.read_sql_query(query, cnx)\n",
    "print(df1) "
   ]
  },
  {
   "cell_type": "code",
   "execution_count": 7,
   "id": "fb8d281d",
   "metadata": {},
   "outputs": [
    {
     "name": "stdout",
     "output_type": "stream",
     "text": [
      "  TEACHERID       TEACHERNAME   TEACHERDESIGNATION  TEACHERSALARY\n",
      "0      T005    LARNCE KLUSNER            ASSOCIATE         150000\n",
      "1      T008     GLENN MCGRATH  ASSOCIATE PROFESSOR         160000\n",
      "2      T001       WASIM AKRAM  ASSOCIATE PROFESSOR         200000\n",
      "3      T004  SHAKIB UL HASSAN             LECTURER         100000\n",
      "4      T006        BEN STOKES             LECTURER         130000\n",
      "5      T003         KAPEL DEV            PROFESSOR         230000\n",
      "6      T002        IMRAN KHAN            PROFESSOR         250000\n",
      "7      T007        DALE STAYN      SENIOR LECTURER         120000\n"
     ]
    }
   ],
   "source": [
    "df2 = pd.read_sql_query('select * from teacher order by teacherdesignation, teachersalary', cnx)\n",
    "print(df2) "
   ]
  },
  {
   "cell_type": "code",
   "execution_count": 10,
   "id": "6a3bdff3",
   "metadata": {},
   "outputs": [
    {
     "name": "stdout",
     "output_type": "stream",
     "text": [
      "          studentname ENROLMENTID SEMESTER  STUDYYEAR STUDENTID UNITCODE\n",
      "0          BRIAN LARA        E004     FALL       2010      S002   MDS604\n",
      "1       MICHAEL BEVAN        E002   SPRING       2020      S001   MDS601\n",
      "2       MICHAEL BEVAN        E001   SPRING       2020      S001   MDS600\n",
      "3          BRIAN LARA        E002   SPRING       2020      S001   MDS601\n",
      "4          BRIAN LARA        E001   SPRING       2020      S001   MDS600\n",
      "5      VIVAN RICHARDS        E002   SPRING       2020      S001   MDS601\n",
      "6      VIVAN RICHARDS        E001   SPRING       2020      S001   MDS600\n",
      "7       JAVED MIANDAD        E002   SPRING       2020      S001   MDS601\n",
      "8       JAVED MIANDAD        E001   SPRING       2020      S001   MDS600\n",
      "9         VIRAT KOHLI        E002   SPRING       2020      S001   MDS601\n",
      "10        VIRAT KOHLI        E001   SPRING       2020      S001   MDS600\n",
      "11         BABAR AZAM        E002   SPRING       2020      S001   MDS601\n",
      "12         BABAR AZAM        E001   SPRING       2020      S001   MDS600\n",
      "13  KUMARAN SANGAKARA        E002   SPRING       2020      S001   MDS601\n",
      "14  KUMARAN SANGAKARA        E001   SPRING       2020      S001   MDS600\n",
      "15      MICHAEL BEVAN        E006   WINTER       2020      S004   MDS606\n",
      "16         BRIAN LARA        E006   WINTER       2020      S004   MDS606\n",
      "17     VIVAN RICHARDS        E006   WINTER       2020      S004   MDS606\n",
      "18      JAVED MIANDAD        E006   WINTER       2020      S004   MDS606\n",
      "19        VIRAT KOHLI        E006   WINTER       2020      S004   MDS606\n",
      "20         BABAR AZAM        E006   WINTER       2020      S004   MDS606\n",
      "21  KUMARAN SANGAKARA        E006   WINTER       2020      S004   MDS606\n",
      "22      MICHAEL BEVAN        E008     FALL       2022      S006   MDS600\n",
      "23         BRIAN LARA        E008     FALL       2022      S006   MDS600\n",
      "24     VIVAN RICHARDS        E008     FALL       2022      S006   MDS600\n",
      "25      JAVED MIANDAD        E008     FALL       2022      S006   MDS600\n",
      "26        VIRAT KOHLI        E008     FALL       2022      S006   MDS600\n",
      "27         BABAR AZAM        E008     FALL       2022      S006   MDS600\n",
      "28  KUMARAN SANGAKARA        E008     FALL       2022      S006   MDS600\n"
     ]
    }
   ],
   "source": [
    "query3 = '''select s.studentname, e.* \n",
    "from student s, enrolment e \n",
    "where s.studentid = e.studentid\n",
    "and e.studyyear = 2010 or e.studyyear = 2020 or e.studyyear = 2022\n",
    "order by e.studyyear, e.semester'''\n",
    "\n",
    "\n",
    "df3 = pd.read_sql_query(query3, cnx)\n",
    "print(df3) "
   ]
  },
  {
   "cell_type": "code",
   "execution_count": 13,
   "id": "204beba8",
   "metadata": {},
   "outputs": [
    {
     "name": "stdout",
     "output_type": "stream",
     "text": [
      "          studentname\n",
      "0       MICHAEL BEVAN\n",
      "1       MICHAEL BEVAN\n",
      "2          BRIAN LARA\n",
      "3          BRIAN LARA\n",
      "4      VIVAN RICHARDS\n",
      "5      VIVAN RICHARDS\n",
      "6       JAVED MIANDAD\n",
      "7       JAVED MIANDAD\n",
      "8         VIRAT KOHLI\n",
      "9         VIRAT KOHLI\n",
      "10         BABAR AZAM\n",
      "11         BABAR AZAM\n",
      "12  KUMARAN SANGAKARA\n",
      "13  KUMARAN SANGAKARA\n",
      "14      MICHAEL BEVAN\n",
      "15      MICHAEL BEVAN\n",
      "16         BRIAN LARA\n",
      "17         BRIAN LARA\n",
      "18     VIVAN RICHARDS\n",
      "19     VIVAN RICHARDS\n",
      "20      JAVED MIANDAD\n",
      "21      JAVED MIANDAD\n",
      "22        VIRAT KOHLI\n",
      "23        VIRAT KOHLI\n",
      "24         BABAR AZAM\n",
      "25         BABAR AZAM\n",
      "26  KUMARAN SANGAKARA\n",
      "27  KUMARAN SANGAKARA\n"
     ]
    }
   ],
   "source": [
    "query4 = '''select studentname\n",
    "from student s, enrolment e, unit u \n",
    "where e.studentid = e.studentid and e.unitcode = u.unitcode \n",
    "and u.unitcode = 'MDS601'\n",
    "union all \n",
    "select studentname\n",
    "from student s, enrolment e, unit u \n",
    "where e.studentid = e.studentid and e.unitcode = u.unitcode \n",
    "and u.unitcode = 'MDS603'\n",
    "'''\n",
    "\n",
    "df4 = pd.read_sql_query(query4, cnx)\n",
    "print(df4) "
   ]
  },
  {
   "cell_type": "code",
   "execution_count": 14,
   "id": "07f443e7",
   "metadata": {},
   "outputs": [
    {
     "name": "stdout",
     "output_type": "stream",
     "text": [
      "         studentname\n",
      "0      MICHAEL BEVAN\n",
      "1         BRIAN LARA\n",
      "2     VIVAN RICHARDS\n",
      "3      JAVED MIANDAD\n",
      "4        VIRAT KOHLI\n",
      "5         BABAR AZAM\n",
      "6  KUMARAN SANGAKARA\n"
     ]
    }
   ],
   "source": [
    "query5 = '''select studentname\n",
    "from student s, enrolment e, unit u \n",
    "where e.studentid = e.studentid and e.unitcode = u.unitcode \n",
    "and u.unitcode = 'MDS601'\n",
    "union \n",
    "select studentname\n",
    "from student s, enrolment e, unit u \n",
    "where e.studentid = e.studentid and e.unitcode = u.unitcode \n",
    "and u.unitcode = 'MDS603'\n",
    "'''\n",
    "\n",
    "df5 = pd.read_sql_query(query5, cnx)\n",
    "print(df5) "
   ]
  },
  {
   "cell_type": "code",
   "execution_count": 17,
   "id": "a8d237b8",
   "metadata": {},
   "outputs": [
    {
     "name": "stdout",
     "output_type": "stream",
     "text": [
      "  unitcode\n",
      "0   MDS600\n",
      "1   MDS601\n"
     ]
    }
   ],
   "source": [
    "#Write a Python script to display the unit codes for the units that were offered in the \n",
    "#spring of 2020 and fall of 2022. You can use IN.\n",
    "\n",
    "\n",
    "query6 = '''select unitcode\n",
    "from enrolment \n",
    "where semester = 'spring' and studyyear = 2020\n",
    "union \n",
    "select unitcode\n",
    "from enrolment \n",
    "where semester = 'fall' and studyyear = 2022;\n",
    "'''\n",
    "\n",
    "df6 = pd.read_sql_query(query6, cnx)\n",
    "print(df6) "
   ]
  },
  {
   "cell_type": "code",
   "execution_count": 18,
   "id": "596b30e0",
   "metadata": {},
   "outputs": [
    {
     "name": "stdout",
     "output_type": "stream",
     "text": [
      "  unitcode\n",
      "0   MDS601\n"
     ]
    }
   ],
   "source": [
    "#Write a Python script to display the unit codes for the units that were offered in the \n",
    "#spring of 2020 but not in the fall of 2022. You can use NOT IN\n",
    "\n",
    "query7 = '''select distinct unitcode  \n",
    "from enrolment \n",
    "where semester = 'spring' and studyyear = 2020\n",
    "and unitcode not in (select distinct unitcode  \n",
    "from enrolment \n",
    "where semester = 'fall' and studyyear = 2022);\n",
    "'''\n",
    "\n",
    "df7 = pd.read_sql_query(query7, cnx)\n",
    "print(df7) "
   ]
  },
  {
   "cell_type": "code",
   "execution_count": null,
   "id": "6e1c4a33",
   "metadata": {},
   "outputs": [],
   "source": []
  }
 ],
 "metadata": {
  "kernelspec": {
   "display_name": "Python 3 (ipykernel)",
   "language": "python",
   "name": "python3"
  },
  "language_info": {
   "codemirror_mode": {
    "name": "ipython",
    "version": 3
   },
   "file_extension": ".py",
   "mimetype": "text/x-python",
   "name": "python",
   "nbconvert_exporter": "python",
   "pygments_lexer": "ipython3",
   "version": "3.10.9"
  }
 },
 "nbformat": 4,
 "nbformat_minor": 5
}
