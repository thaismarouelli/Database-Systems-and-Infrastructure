{
 "cells": [
  {
   "cell_type": "code",
   "execution_count": 5,
   "id": "fecba73c",
   "metadata": {},
   "outputs": [
    {
     "name": "stdout",
     "output_type": "stream",
     "text": [
      "Defaulting to user installation because normal site-packages is not writeableNote: you may need to restart the kernel to use updated packages.\n",
      "\n",
      "Requirement already satisfied: mysql-connector-python in c:\\users\\thaislopesmarouelli\\appdata\\roaming\\python\\python310\\site-packages (9.4.0)\n"
     ]
    }
   ],
   "source": [
    "pip install mysql-connector-python\n"
   ]
  },
  {
   "cell_type": "code",
   "execution_count": 33,
   "id": "0a02d919",
   "metadata": {},
   "outputs": [],
   "source": [
    "import mysql.connector \n",
    "\n",
    "cnx = mysql.connector.connect(user='root', password='Student123@', host='127.0.0.1', database='university_database')"
   ]
  },
  {
   "cell_type": "code",
   "execution_count": 34,
   "id": "2d19a8c5",
   "metadata": {},
   "outputs": [
    {
     "name": "stdout",
     "output_type": "stream",
     "text": [
      "('enrolment',)\n",
      "('student',)\n",
      "('teacher',)\n",
      "('unit',)\n",
      "('workload',)\n"
     ]
    }
   ],
   "source": [
    "#cursor makes it possible to do the sql consultations in python \n",
    "#execute will execute queries \n",
    "mycursor = cnx.cursor()\n",
    "mycursor.execute('SHOW TABLES')\n",
    "for x in mycursor:\n",
    "    print(x)"
   ]
  },
  {
   "cell_type": "code",
   "execution_count": 35,
   "id": "0ddb6a99",
   "metadata": {},
   "outputs": [
    {
     "name": "stdout",
     "output_type": "stream",
     "text": [
      "('S001', 'MICHAEL BEVAN', datetime.date(1960, 9, 15), Decimal('3.20'), 'CHATSWOOD')\n",
      "('S002', 'BRIAN LARA', datetime.date(1965, 2, 10), Decimal('4.00'), 'MARSFIELD')\n",
      "('S003', 'VIVAN RICHARDS', datetime.date(1958, 11, 12), Decimal('4.50'), 'BURWOOD')\n",
      "('S004', 'JAVED MIANDAD', datetime.date(1966, 5, 5), Decimal('3.50'), 'RYDE')\n",
      "('S005', 'VIRAT KOHLI', datetime.date(1988, 10, 15), Decimal('4.30'), 'AUBURN')\n",
      "('S006', 'BABAR AZAM', datetime.date(1991, 4, 20), Decimal('4.20'), 'LAKEMBA')\n",
      "('S007', 'KUMAR SANGAKARA', datetime.date(1980, 1, 26), Decimal('3.70'), 'REDFERN')\n"
     ]
    }
   ],
   "source": [
    "Query = \"SELECT * FROM student\"\n",
    "cursor = cnx.cursor()\n",
    "cursor.execute(Query)\n",
    "for x in mycursor:\n",
    "    print(x)"
   ]
  },
  {
   "cell_type": "code",
   "execution_count": 36,
   "id": "7461c9aa",
   "metadata": {},
   "outputs": [
    {
     "name": "stdout",
     "output_type": "stream",
     "text": [
      "DATA SCIENCE\n",
      "MATHEMATICS\n",
      "BUSSINES ANALYTICS\n",
      "DATABASES\n"
     ]
    }
   ],
   "source": [
    "Query = \"\"\"SELECT unitname FROM unit u, workload w, teacher t \n",
    "WHERE u.unitcode = w.unitcode \n",
    "AND w.teacherid = t.teacherid \n",
    "AND t.teachername LIKE \"%N\" \"\"\"\n",
    "cursor = cnx.cursor()\n",
    "cursor.execute(Query)\n",
    "for x in cursor:\n",
    "    print(x[0])"
   ]
  },
  {
   "cell_type": "code",
   "execution_count": 37,
   "id": "68a2784d",
   "metadata": {},
   "outputs": [
    {
     "name": "stdout",
     "output_type": "stream",
     "text": [
      "***** query output presented as a Python list *****\n",
      "\n",
      "\n",
      "('S001', 'MICHAEL BEVAN', datetime.date(1960, 9, 15), Decimal('3.20'), 'CHATSWOOD')\n",
      "('S002', 'BRIAN LARA', datetime.date(1965, 2, 10), Decimal('4.00'), 'MARSFIELD')\n",
      "('S003', 'VIVAN RICHARDS', datetime.date(1958, 11, 12), Decimal('4.50'), 'BURWOOD')\n",
      "('S004', 'JAVED MIANDAD', datetime.date(1966, 5, 5), Decimal('3.50'), 'RYDE')\n",
      "('S005', 'VIRAT KOHLI', datetime.date(1988, 10, 15), Decimal('4.30'), 'AUBURN')\n",
      "('S006', 'BABAR AZAM', datetime.date(1991, 4, 20), Decimal('4.20'), 'LAKEMBA')\n",
      "('S007', 'KUMAR SANGAKARA', datetime.date(1980, 1, 26), Decimal('3.70'), 'REDFERN')\n",
      "\n",
      "\n",
      "\n",
      "***** query output presented as a pands dataframe *****\n",
      "\n",
      "\n",
      "  STUDENTID      STUDENTNAME  STUDENTDOB  STUDENTGPA STUDENTSUBURB\n",
      "0      S001    MICHAEL BEVAN  1960-09-15         3.2     CHATSWOOD\n",
      "1      S002       BRIAN LARA  1965-02-10         4.0     MARSFIELD\n",
      "2      S003   VIVAN RICHARDS  1958-11-12         4.5       BURWOOD\n",
      "3      S004    JAVED MIANDAD  1966-05-05         3.5          RYDE\n",
      "4      S005      VIRAT KOHLI  1988-10-15         4.3        AUBURN\n",
      "5      S006       BABAR AZAM  1991-04-20         4.2       LAKEMBA\n",
      "6      S007  KUMAR SANGAKARA  1980-01-26         3.7       REDFERN\n"
     ]
    },
    {
     "name": "stderr",
     "output_type": "stream",
     "text": [
      "C:\\Users\\ThaisLOPESMAROUELLI\\AppData\\Local\\Temp\\ipykernel_15492\\3163466046.py:15: UserWarning: pandas only supports SQLAlchemy connectable (engine/connection) or database string URI or sqlite3 DBAPI2 connection. Other DBAPI2 objects are not tested. Please consider using SQLAlchemy.\n",
      "  df = pd.read_sql_query(\"select * from STUDENT \", cnx)\n"
     ]
    }
   ],
   "source": [
    "import pandas as pd\n",
    "\n",
    "cursor = cnx.cursor() \n",
    "cursor.execute(\"select * from STUDENT \") \n",
    "rows = cursor.fetchall()  \n",
    "print(\"***** query output presented as a Python list *****\") \n",
    "print(\"\\n\") \n",
    "for row in rows: \n",
    "    print(row)  \n",
    "    \n",
    "print(\"\\n\\n\") \n",
    "print(\"***** query output presented as a pands dataframe *****\") \n",
    "print(\"\\n\") \n",
    "\n",
    "df = pd.read_sql_query(\"select * from STUDENT \", cnx) \n",
    "print(df)     \n"
   ]
  },
  {
   "cell_type": "code",
   "execution_count": 38,
   "id": "390f12ae",
   "metadata": {},
   "outputs": [
    {
     "name": "stdout",
     "output_type": "stream",
     "text": [
      "        teachername  teachersalary\n",
      "0        IMRAN KHAN         250000\n",
      "1         KAPEL DEV         230000\n",
      "2  SHAKIB UL HASSAN         100000\n",
      "3    LARNCE KLUSNER         150000\n",
      "4        BEN STOKES         130000\n",
      "5        DALE STAYN         120000\n",
      "6     GLENN MCGRATH         160000\n"
     ]
    },
    {
     "name": "stderr",
     "output_type": "stream",
     "text": [
      "C:\\Users\\ThaisLOPESMAROUELLI\\AppData\\Local\\Temp\\ipykernel_15492\\41690817.py:1: UserWarning: pandas only supports SQLAlchemy connectable (engine/connection) or database string URI or sqlite3 DBAPI2 connection. Other DBAPI2 objects are not tested. Please consider using SQLAlchemy.\n",
      "  dfteacher = pd.read_sql_query(\"select teachername, teachersalary from teacher \", cnx)\n"
     ]
    }
   ],
   "source": [
    "dfteacher = pd.read_sql_query(\"select teachername, teachersalary from teacher \", cnx) \n",
    "print(dfteacher)"
   ]
  },
  {
   "cell_type": "code",
   "execution_count": 47,
   "id": "a2a1dab6",
   "metadata": {},
   "outputs": [
    {
     "data": {
      "text/plain": [
       "(array([3., 2., 2.]),\n",
       " array([100000., 150000., 200000., 250000.]),\n",
       " <BarContainer object of 3 artists>)"
      ]
     },
     "execution_count": 47,
     "metadata": {},
     "output_type": "execute_result"
    },
    {
     "data": {
      "image/png": "[encoded data removed]",
      "text/plain": [
       "<Figure size 640x480 with 1 Axes>"
      ]
     },
     "metadata": {},
     "output_type": "display_data"
    }
   ],
   "source": [
    "import matplotlib.pyplot as plt\n",
    "\n",
    "plt.hist(dfteacher['teachersalary'],bins = [100000, 150000, 200000, \n",
    "250000])    "
   ]
  },
  {
   "cell_type": "code",
   "execution_count": 41,
   "id": "d0001e2d",
   "metadata": {},
   "outputs": [
    {
     "name": "stdout",
     "output_type": "stream",
     "text": [
      "  TEACHERID       TEACHERNAME   TEACHERDESIGNATION  TEACHERSALARY\n",
      "0      T002        IMRAN KHAN            PROFESSOR         250000\n",
      "1      T003         KAPEL DEV            PROFESSOR         230000\n",
      "2      T004  SHAKIB UL HASSAN             LECTURER         100000\n",
      "3      T005    LARNCE KLUSNER            ASSOCIATE         150000\n",
      "4      T006        BEN STOKES             LECTURER         130000\n",
      "5      T007        DALE STAYN      SENIOR LECTURER         120000\n",
      "6      T008     GLENN MCGRATH  ASSOCIATE PROFESSOR         160000\n"
     ]
    },
    {
     "name": "stderr",
     "output_type": "stream",
     "text": [
      "C:\\Users\\ThaisLOPESMAROUELLI\\AppData\\Local\\Temp\\ipykernel_15492\\375318154.py:1: UserWarning: pandas only supports SQLAlchemy connectable (engine/connection) or database string URI or sqlite3 DBAPI2 connection. Other DBAPI2 objects are not tested. Please consider using SQLAlchemy.\n",
      "  teacherdesignation = pd.read_sql_query(\"select * from teacher \", cnx)\n"
     ]
    }
   ],
   "source": [
    "teacherdesignation = pd.read_sql_query(\"select * from teacher \", cnx) \n",
    "print(teacherdesignation)"
   ]
  },
  {
   "cell_type": "code",
   "execution_count": 42,
   "id": "e67f9ac7",
   "metadata": {},
   "outputs": [
    {
     "data": {
      "text/plain": [
       "<Axes: title={'center': 'TEACHERSALARY'}, xlabel='TEACHERDESIGNATION'>"
      ]
     },
     "execution_count": 42,
     "metadata": {},
     "output_type": "execute_result"
    },
    {
     "data": {
      "image/png": "[encoded data removed]",
      "text/plain": [
       "<Figure size 1200x600 with 1 Axes>"
      ]
     },
     "metadata": {},
     "output_type": "display_data"
    }
   ],
   "source": [
    "teacherdesignation.boxplot(by ='TEACHERDESIGNATION', column=['TEACHERSALARY'], grid = False, figsize=(12,6), fontsize=14) "
   ]
  },
  {
   "cell_type": "code",
   "execution_count": 45,
   "id": "d9d2f1d7",
   "metadata": {},
   "outputs": [
    {
     "name": "stdout",
     "output_type": "stream",
     "text": [
      "       studentname  totalcredits\n",
      "0    MICHAEL BEVAN          10.0\n",
      "1       BRIAN LARA           3.0\n",
      "2   VIVAN RICHARDS           6.0\n",
      "3    JAVED MIANDAD           6.0\n",
      "4      VIRAT KOHLI           2.0\n",
      "5       BABAR AZAM           3.0\n",
      "6  KUMAR SANGAKARA           3.0\n"
     ]
    },
    {
     "name": "stderr",
     "output_type": "stream",
     "text": [
      "C:\\Users\\ThaisLOPESMAROUELLI\\AppData\\Local\\Temp\\ipykernel_15492\\2143911151.py:1: UserWarning: pandas only supports SQLAlchemy connectable (engine/connection) or database string URI or sqlite3 DBAPI2 connection. Other DBAPI2 objects are not tested. Please consider using SQLAlchemy.\n",
      "  studentcredits = pd.read_sql_query(\"\"\"select s.studentname, sum(u.unitcreditpoints) as totalcredits\n"
     ]
    }
   ],
   "source": [
    "studentcredits = pd.read_sql_query(\"\"\"select s.studentname, sum(u.unitcreditpoints) as totalcredits \n",
    "from student s \n",
    "join enrolment e on s.studentid = e.studentid \n",
    "join unit u on e.unitcode = u.unitcode\n",
    "group by s.studentname;\"\"\", cnx)\n",
    "\n",
    "print(studentcredits)"
   ]
  },
  {
   "cell_type": "code",
   "execution_count": 46,
   "id": "ed78f9f3",
   "metadata": {},
   "outputs": [
    {
     "name": "stdout",
     "output_type": "stream",
     "text": [
      "     studentname  totalcredits\n",
      "0  MICHAEL BEVAN          10.0\n"
     ]
    }
   ],
   "source": [
    "print(studentcredits[studentcredits.totalcredits==studentcredits.totalcredits.max()])"
   ]
  },
  {
   "cell_type": "code",
   "execution_count": 53,
   "id": "1d39203d",
   "metadata": {},
   "outputs": [
    {
     "name": "stdout",
     "output_type": "stream",
     "text": [
      "***** Output for version 1 *****\n",
      "  TEACHERID       TEACHERNAME\n",
      "0      T004  SHAKIB UL HASSAN\n",
      "1      T006        BEN STOKES\n",
      "\n",
      "\n",
      "***** Output for version 2 *****\n",
      "  TEACHERID       TEACHERNAME\n",
      "0      T004  SHAKIB UL HASSAN\n",
      "1      T006        BEN STOKES\n"
     ]
    },
    {
     "name": "stderr",
     "output_type": "stream",
     "text": [
      "C:\\Users\\ThaisLOPESMAROUELLI\\AppData\\Local\\Temp\\ipykernel_15492\\2584216374.py:1: UserWarning: pandas only supports SQLAlchemy connectable (engine/connection) or database string URI or sqlite3 DBAPI2 connection. Other DBAPI2 objects are not tested. Please consider using SQLAlchemy.\n",
      "  df1 = pd.read_sql_query(\"\"\"SELECT distinct T.TEACHERID, TEACHERNAME\n",
      "C:\\Users\\ThaisLOPESMAROUELLI\\AppData\\Local\\Temp\\ipykernel_15492\\2584216374.py:9: UserWarning: pandas only supports SQLAlchemy connectable (engine/connection) or database string URI or sqlite3 DBAPI2 connection. Other DBAPI2 objects are not tested. Please consider using SQLAlchemy.\n",
      "  df2 = pd.read_sql_query(\"\"\"SELECT distinct T.TEACHERID, TEACHERNAME\n"
     ]
    }
   ],
   "source": [
    "df1 = pd.read_sql_query(\"\"\"SELECT distinct T.TEACHERID, TEACHERNAME\n",
    "FROM TEACHER T, WORKLOAD W  \n",
    "WHERE T.TEACHERID= W.TEACHERID  \n",
    "AND SCHEDULEHOURS = 3.5\"\"\", cnx) \n",
    "\n",
    "print(\"***** Output for version 1 *****\") \n",
    "print(df1) \n",
    "\n",
    "df2 = pd.read_sql_query(\"\"\"SELECT distinct T.TEACHERID, TEACHERNAME\n",
    "FROM TEACHER T, WORKLOAD W \n",
    "WHERE (T.TEACHERID, SCHEDULEHOURS) = (W.TEACHERID, 3.5)\"\"\", cnx)\n",
    "\n",
    "print(\"\\n\") \n",
    "print(\"***** Output for version 2 *****\") \n",
    "print(df2)  \n",
    "\n",
    "cnx.close()     "
   ]
  },
  {
   "cell_type": "code",
   "execution_count": null,
   "id": "268747af",
   "metadata": {},
   "outputs": [],
   "source": []
  }
 ],
 "metadata": {
  "kernelspec": {
   "display_name": "Python 3 (ipykernel)",
   "language": "python",
   "name": "python3"
  },
  "language_info": {
   "codemirror_mode": {
    "name": "ipython",
    "version": 3
   },
   "file_extension": ".py",
   "mimetype": "text/x-python",
   "name": "python",
   "nbconvert_exporter": "python",
   "pygments_lexer": "ipython3",
   "version": "3.10.9"
  }
 },
 "nbformat": 4,
 "nbformat_minor": 5
}
